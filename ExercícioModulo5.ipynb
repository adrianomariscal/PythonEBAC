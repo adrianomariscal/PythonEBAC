{
  "nbformat": 4,
  "nbformat_minor": 0,
  "metadata": {
    "colab": {
      "provenance": [],
      "authorship_tag": "ABX9TyOf45TmZcXcrjQCwYXkH+s3",
      "include_colab_link": true
    },
    "kernelspec": {
      "name": "python3",
      "display_name": "Python 3"
    },
    "language_info": {
      "name": "python"
    }
  },
  "cells": [
    {
      "cell_type": "markdown",
      "metadata": {
        "id": "view-in-github",
        "colab_type": "text"
      },
      "source": [
        "<a href=\"https://colab.research.google.com/github/adrianomariscal/PythonEBAC/blob/main/Exerc%C3%ADcioModulo5.ipynb\" target=\"_parent\"><img src=\"https://colab.research.google.com/assets/colab-badge.svg\" alt=\"Open In Colab\"/></a>"
      ]
    },
    {
      "cell_type": "code",
      "execution_count": 31,
      "metadata": {
        "colab": {
          "base_uri": "https://localhost:8080/"
        },
        "id": "EvVqOijgODiE",
        "outputId": "6285bcee-7595-4f8e-f750-2dff9576061b"
      },
      "outputs": [
        {
          "output_type": "stream",
          "name": "stdout",
          "text": [
            "insira um valor para x 20\n",
            "insira um valor para y 3\n",
            "a soma dos valores é:  23.0\n",
            "a divisão dos valores é:  6.666666666666667 e o resto da divisão é:  2.0\n",
            "a subtração dos valores é:  17.0\n",
            "a multiplicação dos valores é:  60.0\n",
            "Agora vou executar 5 operações de acordo com sua escolha. Vou somar um ao Y para cada vez que eu executar a operação.\n",
            "Insira qual tipo das operações acima você quer que eu execute por 5 vezes: suma\n",
            "operação inválida. Favor escolher uma operação válida prestando atenção na forma da escrita:\n",
            "insira qual tipo das operações acima você quer que eu execute por 5 vezes: soma\n",
            "23.0\n",
            "24.0\n",
            "25.0\n",
            "26.0\n",
            "27.0\n",
            "fim do programa\n"
          ]
        }
      ],
      "source": [
        "num1 = input (\"insira um valor para x \")\n",
        "num2 = input (\"insira um valor para y \")\n",
        "\n",
        "x = float(num1)\n",
        "y = float(num2)\n",
        "\n",
        "soma = (x + y)\n",
        "divisao = (x / y)\n",
        "resto = (x % y)\n",
        "subtracao = (x - y)\n",
        "multiplicacao = (x * y)\n",
        "print (\"a soma dos valores é: \", soma)\n",
        "print (\"a divisão dos valores é: \", divisao, \"e o resto da divisão é: \", resto)\n",
        "print (\"a subtração dos valores é: \", subtracao)\n",
        "print (\"a multiplicação dos valores é: \", multiplicacao)\n",
        "\n",
        "print (\"Agora vou executar 5 operações de acordo com sua escolha. Vou somar um ao Y para cada vez que eu executar a operação.\")\n",
        "equacao = input (\"Insira qual tipo das operações acima você quer que eu execute por 5 vezes: \")\n",
        "if equacao != \"soma\" and equacao != \"subtracao\" and equacao != \"multiplicacao\" and equacao != \"divisao\": # caso o usuário escolha ou digite uma operação inexistente.\n",
        "    print (\"operação inválida. Favor escolher uma operação válida prestando atenção na forma da escrita:\")\n",
        "equacao = input ( \"insira qual tipo das operações acima você quer que eu execute por 5 vezes: \")\n",
        "\n",
        "if equacao == \"soma\" or equacao == \"subtracao\" or equacao == \"multiplicacao\" or equacao == \"divisao\":\n",
        "\n",
        "  n=0\n",
        "  if equacao == \"soma\":\n",
        "    while n <= 4:\n",
        "        print (x + (y+n))\n",
        "        n = n + 1\n",
        "\n",
        "  if equacao == \"subtracao\":\n",
        "    while n <= 4:\n",
        "        print (x - (y+n))\n",
        "        n = n + 1\n",
        "\n",
        "  if equacao == \"multiplicacao\":\n",
        "    while n <= 4:\n",
        "        print (x * (y+n))\n",
        "        n = n + 1\n",
        "\n",
        "  if equacao == \"divisao\":\n",
        "    while n <= 4:\n",
        "        print (x / (y+n))\n",
        "        n = n + 1\n",
        "\n",
        "print (\"fim do programa\")"
      ]
    }
  ]
}